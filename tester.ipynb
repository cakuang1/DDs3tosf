{
 "cells": [
  {
   "cell_type": "code",
   "execution_count": 3,
   "metadata": {},
   "outputs": [
    {
     "name": "stdout",
     "output_type": "stream",
     "text": [
      "Your database ddtosfpipeline has been created\n",
      "Your schema projectschema has been created\n"
     ]
    }
   ],
   "source": [
    "import snowflake.connector\n",
    "import os\n",
    "\n",
    "\n",
    "snowflake_user = config.snowflake_user\n",
    "snowflake_password = config.snowflake_password\n",
    "snowflake_account = config.snowflake_account\n",
    "snowflake_database = config.snowflake_database\n",
    "snowflake_schema = config.snowflake_schema\n",
    "snowflake_schema = 'ddtransaction'\n",
    "\n",
    "snowflake_conn = snowflake.connector.connect(\n",
    "        user=snowflake_user,\n",
    "        password=snowflake_password,\n",
    "        account=snowflake_account,\n",
    "        database = snowflake_database,\n",
    "        schema = snowflake_schema\n",
    "        )\n",
    "\n",
    "\n",
    "snowflake_cursor = snowflake_conn.cursor()\n",
    "\n",
    "\n",
    "#Creates the database\n",
    "snowflake_cursor.execute(f\"CREATE DATABASE {snowflake_database}\")\n",
    "\n",
    "print('Your database ' + snowflake_database + ' has been created')\n",
    "\n",
    "\n",
    "#Creates the schema\n",
    "snowflake_cursor.execute(f\"CREATE SCHEMA {snowflake_schema}\")\n",
    "\n",
    "print (f'Your schema ' + {} + ' has been created')\n",
    "\n",
    "snowflake_cursor.execute(f\"Cre\")\n",
    "\n",
    "\n",
    "print ('Your table ' + + ' has been created')\n",
    "\n",
    "\n",
    "\n",
    "\n",
    "snowflake_conn.close()"
   ]
  },
  {
   "cell_type": "code",
   "execution_count": 10,
   "metadata": {},
   "outputs": [
    {
     "data": {
      "text/plain": [
       "'12:02PM on May 03, 2023'"
      ]
     },
     "execution_count": 10,
     "metadata": {},
     "output_type": "execute_result"
    }
   ],
   "source": []
  },
  {
   "cell_type": "code",
   "execution_count": 1,
   "metadata": {},
   "outputs": [],
   "source": [
    "\n",
    "\n",
    "\n"
   ]
  },
  {
   "cell_type": "code",
   "execution_count": 2,
   "metadata": {},
   "outputs": [
    {
     "name": "stdout",
     "output_type": "stream",
     "text": [
      "vezyeir-og88155\n"
     ]
    }
   ],
   "source": [
    "snowflake_account = os.environ.get('snowflake_account')\n",
    "snowflake_database = os.environ.get('snowflake_database')\n",
    "snowflake_schema = os.environ.get('snowflake_schema')\n",
    "snowflake_table = os.environ.get('snowflake_table')\n",
    "\n",
    "print(snowflake_account)"
   ]
  },
  {
   "cell_type": "code",
   "execution_count": null,
   "metadata": {},
   "outputs": [],
   "source": []
  }
 ],
 "metadata": {
  "kernelspec": {
   "display_name": "Python 3",
   "language": "python",
   "name": "python3"
  },
  "language_info": {
   "codemirror_mode": {
    "name": "ipython",
    "version": 3
   },
   "file_extension": ".py",
   "mimetype": "text/x-python",
   "name": "python",
   "nbconvert_exporter": "python",
   "pygments_lexer": "ipython3",
   "version": "3.10.4"
  },
  "orig_nbformat": 4
 },
 "nbformat": 4,
 "nbformat_minor": 2
}
